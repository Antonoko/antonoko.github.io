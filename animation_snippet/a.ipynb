{
 "cells": [
  {
   "cell_type": "code",
   "execution_count": 1,
   "metadata": {},
   "outputs": [
    {
     "name": "stdout",
     "output_type": "stream",
     "text": [
      "['mygo_pic\\\\5話場面写①.webp', 'mygo_pic\\\\5話場面写②.webp', 'mygo_pic\\\\5話場面写③.webp', 'mygo_pic\\\\BD_Mygo_ep03_230523_H264_16873F.webp', 'mygo_pic\\\\BD_Mygo_ep03_230523_H264_21402F_2.webp', 'mygo_pic\\\\BD_Mygo_ep03_230523_H264_4754F_1.webp', 'mygo_pic\\\\BD_Mygo_ep04_230530_H265_04961.webp', 'mygo_pic\\\\BD_Mygo_ep04_230530_H265_08351.webp', 'mygo_pic\\\\BD_Mygo_ep04_230530_H265_17509.webp', 'mygo_pic\\\\BD_Mygo_ep06_230613_PR422HQ-2_00006.webp', 'mygo_pic\\\\BD_Mygo_ep06_230613_PR422HQ-2_00040.webp', 'mygo_pic\\\\BD_Mygo_ep06_230613_PR422HQ-2_00052.webp', 'mygo_pic\\\\BD_Mygo_ep07_230620_PR422HQ-2_00024.webp', 'mygo_pic\\\\BD_Mygo_ep07_230620_PR422HQ-2_00031.webp', 'mygo_pic\\\\BD_Mygo_ep07_230620_PR422HQ-2_00059.webp', 'mygo_pic\\\\BD_Mygo_ep08_230713_PR422HQ_re_00036.webp', 'mygo_pic\\\\BD_Mygo_ep08_230713_PR422HQ_re_00043.webp', 'mygo_pic\\\\BD_Mygo_ep08_230713_PR422HQ_re_00062-1.webp', 'mygo_pic\\\\BD_Mygo_ep09_230626_PR422HQ_00008.webp', 'mygo_pic\\\\BD_Mygo_ep09_230626_PR422HQ_00012.webp', 'mygo_pic\\\\BD_Mygo_ep09_230626_PR422HQ_00031.webp', 'mygo_pic\\\\BD_Mygo_ep10_230705_PR422HQ_00005.webp', 'mygo_pic\\\\BD_Mygo_ep10_230705_PR422HQ_00008.webp', 'mygo_pic\\\\BD_Mygo_ep10_230705_PR422HQ_00020.webp', 'mygo_pic\\\\BD_Mygo_ep11_230711_PR422HQ_00025.webp', 'mygo_pic\\\\BD_Mygo_ep11_230711_PR422HQ_00040.webp', 'mygo_pic\\\\BD_Mygo_ep11_230711_PR422HQ_00042.webp', 'mygo_pic\\\\BD_Mygo_ep12_230824_PR422HQ_kokuchiNASHI_00000.webp', 'mygo_pic\\\\BD_Mygo_ep12_230824_PR422HQ_kokuchiNASHI_00001.webp', 'mygo_pic\\\\BD_Mygo_ep12_230824_PR422HQ_kokuchiNASHI_00002-1.webp', 'mygo_pic\\\\BD_Mygo_ep12_230824_PR422HQ_kokuchiNASHI_00003-2.webp', 'mygo_pic\\\\BD_Mygo_ep12_230824_PR422HQ_kokuchiNASHI_00004-1.webp', 'mygo_pic\\\\BD_Mygo_ep13_230725_PR422HQ_00022.webp', 'mygo_pic\\\\BD_Mygo_ep13_230725_PR422HQ_00052.webp', 'mygo_pic\\\\BD_Mygo_ep13_230725_PR422HQ_00062.webp', 'mygo_pic\\\\NOVA_02_0002_V503_00000.webp', 'mygo_pic\\\\NOVA_02_0005_V503_00000.webp', 'mygo_pic\\\\NOVA_02_0248_V504_00000.webp', 'mygo_pic\\\\xf12pxdd1g_NOVA_01_0065_V504_00000.webp', 'mygo_pic\\\\xf12pxdd1g_NOVA_01_0070_V503_00000.webp', 'mygo_pic\\\\xf12pxdd1g_NOVA_01_0267_V502_00000.webp']\n"
     ]
    }
   ],
   "source": [
    "import os\n",
    "\n",
    "def get_file_list(directory):\n",
    "    file_list = []\n",
    "    for root, dirs, files in os.walk(directory):\n",
    "        for file in files:\n",
    "            file_path = os.path.join(root, file)\n",
    "            file_list.append(file_path)\n",
    "    return file_list\n",
    "\n",
    "# 使用示例\n",
    "directory_path = \"mygo_pic\"\n",
    "file_list = get_file_list(directory_path)\n",
    "print(file_list)"
   ]
  },
  {
   "cell_type": "code",
   "execution_count": null,
   "metadata": {},
   "outputs": [],
   "source": []
  }
 ],
 "metadata": {
  "kernelspec": {
   "display_name": "Python 3",
   "language": "python",
   "name": "python3"
  },
  "language_info": {
   "codemirror_mode": {
    "name": "ipython",
    "version": 3
   },
   "file_extension": ".py",
   "mimetype": "text/x-python",
   "name": "python",
   "nbconvert_exporter": "python",
   "pygments_lexer": "ipython3",
   "version": "3.11.8"
  }
 },
 "nbformat": 4,
 "nbformat_minor": 2
}
